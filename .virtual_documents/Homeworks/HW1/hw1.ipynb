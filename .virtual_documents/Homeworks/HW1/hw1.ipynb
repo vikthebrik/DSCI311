

















# Standard imports
import numpy as np
import pandas as pd

%matplotlib inline
import matplotlib.pyplot as plots
plots.style.use('fivethirtyeight')
import seaborn as sns

path = 'https://github.com/oregon-data-science/DSCI101/raw/main/data/'

# Initialize Otter
import otter
grader = otter.Notebook()








def standard_units(numbers):
    ''' Given numbers array return z_array in standard units'''
    z_array = (numbers - np.mean(numbers)) / np.std(numbers)
    return z_array

def correlation(table, label_x, label_y):
    ''' Returns r, correlation of the 2 arrays  '''
    r = np.mean(standard_units(table[label_x]) * 
                standard_units(table[label_y]))
    return r

def slope(table, label_x, label_y):
    ''' Return slope of correlation line in original units'''
    r = correlation(table, label_x, label_y)
    return r * np.std(table[label_y]) / np.std(table[label_x])

def intercept(table, label_x, label_y):
    ''' return the y intercept in original units'''
    b = (np.mean(table[label_y]) - 
         slope(table, label_x, label_y) * np.mean(table[label_x]))
    return b

def fitted_value(table, label_x, label_y, given_x):
    ''' Fit given_x (a specific x value), predicts the specific y value'''
    m = slope(table, label_x, label_y)
    b = intercept(table, label_x, label_y)
    predicted_y = m * given_x + b    
    return predicted_y

'functions defined'

















red = ...
black = ...
green = ...
total = ...

# Create model_proportions as a numpy array
model_proportions = ...
model_proportions


grader.check("q1_2")








# Define sample_proportions
def sample_proportions(proportions, spins):
    
    ...
    
    return estimated_props


sample_proportions(model_proportions, 100)


grader.check("q1_3")





# Define this function
def play_roulette(repetitions):
    
    ...

    return red_results

simulated_reds = play_roulette(1000);


grader.check("q1_4")





# Compute the p_value given an observed value
observed_reds = ...

prop_red_greater = ...
prop_red_greater








reject_null = True


grader.check("q1_5")











baby = pd.read_table(path+'baby.csv', sep = ",")[["Birth Weight", "Maternal Smoker"]]
baby.head(3)





q2_1 = ...


grader.check("q2_1")

















q2_4 = ...


grader.check("q2_4")





q2_5 = ...


grader.check("q2_5")





q2_6 = ...


grader.check("q2_6")











dugongs = pd.read_table(path + 'dugongs.csv', sep = ",")
dugongs.head(3)


# Visualize the relationship between dugong length and their age
sns.relplot(data = dugongs, x = "Age", y = "Length");





dugong_7 = ...
dugong_50 = ...
dugong_7
dugong_50


grader.check("q2_8")












